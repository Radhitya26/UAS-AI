{
 "cells": [
  {
   "cell_type": "code",
   "execution_count": 13,
   "id": "72680c15-e84c-4e0d-985e-cc5297325ed6",
   "metadata": {},
   "outputs": [],
   "source": [
    "import pandas as pd"
   ]
  },
  {
   "cell_type": "code",
   "execution_count": 14,
   "id": "91a2a151-b0da-42ff-821e-d34e57d3fdcb",
   "metadata": {},
   "outputs": [],
   "source": [
    "df = pd.read_csv(r'C:\\Users\\lenovo\\Downloads\\Deepression.csv')"
   ]
  },
  {
   "cell_type": "code",
   "execution_count": 16,
   "id": "326e5fae-e297-4fc8-b4ad-6431a68fc41a",
   "metadata": {},
   "outputs": [],
   "source": [
    "def get_user_inputs():\n",
    "    print(\"Silakan masukkan nilai-nilai Anda (dalam rentang 0-10):\")\n",
    "    \n",
    "    sleep = int(input(\"Sleep (0-10): \"))\n",
    "    appetite = int(input(\"Appetite (0-10): \"))\n",
    "    interest = int(input(\"Interest (0-10): \"))\n",
    "    fatigue = int(input(\"Fatigue (0-10): \"))\n",
    "    worthlessness = int(input(\"Worthlessness (0-10): \"))\n",
    "    concentration = int(input(\"Concentration (0-10): \"))\n",
    "    agitation = int(input(\"Agitation (0-10): \"))\n",
    "    suicidal_ideation = int(input(\"Suicidal Ideation (0-10): \"))\n",
    "    sleep_disturbance = int(input(\"Sleep Disturbance (0-10): \"))\n",
    "    aggression = int(input(\"Aggression (0-10): \"))\n",
    "    panic_attacks = int(input(\"Panic Attacks (0-10): \"))\n",
    "    hopelessness = int(input(\"Hopelessness (0-10): \"))\n",
    "    restlessness = int(input(\"Restlessness (0-10): \"))\n",
    "    low_energy = int(input(\"Low Energy (0-10): \"))\n",
    "    \n",
    "    return {\n",
    "        'Sleep': sleep,\n",
    "        'Appetite': appetite,\n",
    "        'Interest': interest,\n",
    "        'Fatigue': fatigue,\n",
    "        'Worthlessness': worthlessness,\n",
    "        'Concentration': concentration,\n",
    "        'Agitation': agitation,\n",
    "        'Suicidal Ideation': suicidal_ideation,\n",
    "        'Sleep Disturbance': sleep_disturbance,\n",
    "        'Aggression': aggression,\n",
    "        'Panic Attacks': panic_attacks,\n",
    "        'Hopelessness': hopelessness,\n",
    "        'Restlessness': restlessness,\n",
    "        'Low Energy': low_energy\n",
    "    }\n"
   ]
  },
  {
   "cell_type": "code",
   "execution_count": null,
   "id": "7bae371b-8784-47e6-8601-6eb408077b8e",
   "metadata": {},
   "outputs": [],
   "source": []
  },
  {
   "cell_type": "code",
   "execution_count": null,
   "id": "c28f1922-000a-4f1b-b7e7-47f2a3700989",
   "metadata": {},
   "outputs": [],
   "source": []
  },
  {
   "cell_type": "code",
   "execution_count": 17,
   "id": "35763ffe-3be6-4d71-9af5-d3c64e91153b",
   "metadata": {},
   "outputs": [],
   "source": [
    "def diagnose_depression(inputs, df):\n",
    "    row = df[(df['Sleep'] == inputs['Sleep']) & (df['Appetite'] == inputs['Appetite']) & (df['Interest'] == inputs['Interest']) &\n",
    "             (df['Fatigue'] == inputs['Fatigue']) & (df['Worthlessness'] == inputs['Worthlessness']) & (df['Concentration'] == inputs['Concentration']) &\n",
    "             (df['Agitation'] == inputs['Agitation']) & (df['Suicidal Ideation'] == inputs['Suicidal Ideation']) & (df['Sleep Disturbance'] == inputs['Sleep Disturbance']) &\n",
    "             (df['Aggression'] == inputs['Aggression']) & (df['Panic Attacks'] == inputs['Panic Attacks']) & (df['Hopelessness'] == inputs['Hopelessness']) &\n",
    "             (df['Restlessness'] == inputs['Restlessness']) & (df['Low Energy'] == inputs['Low Energy'])]\n",
    "    \n",
    "    if len(row) == 0:\n",
    "        print(\"Maaf, profil Anda tidak cocok dengan data yang tersedia.\")\n",
    "    else:\n",
    "        print(f\"Hasil diagnosis: {row['Depression State'].values[0]}\")\n"
   ]
  },
  {
   "cell_type": "code",
   "execution_count": null,
   "id": "524ce314-464c-4203-b722-4c3f9accb86c",
   "metadata": {},
   "outputs": [],
   "source": [
    "user_inputs = get_user_inputs()"
   ]
  },
  {
   "cell_type": "code",
   "execution_count": 12,
   "id": "596f2d54-dd21-47e7-b289-16b871e50129",
   "metadata": {},
   "outputs": [
    {
     "data": {
      "application/vnd.jupyter.widget-view+json": {
       "model_id": "a239be35c1ff4504b6b5e1786ffa5a3a",
       "version_major": 2,
       "version_minor": 0
      },
      "text/plain": [
       "Button(description='Diagnose', style=ButtonStyle())"
      ]
     },
     "metadata": {},
     "output_type": "display_data"
    }
   ],
   "source": [
    "diagnose_depression(user_inputs, df)"
   ]
  },
  {
   "cell_type": "code",
   "execution_count": null,
   "id": "1a4ad332-965d-4b68-89ee-edd066cebfdd",
   "metadata": {},
   "outputs": [],
   "source": []
  }
 ],
 "metadata": {
  "kernelspec": {
   "display_name": "Python 3 (ipykernel)",
   "language": "python",
   "name": "python3"
  },
  "language_info": {
   "codemirror_mode": {
    "name": "ipython",
    "version": 3
   },
   "file_extension": ".py",
   "mimetype": "text/x-python",
   "name": "python",
   "nbconvert_exporter": "python",
   "pygments_lexer": "ipython3",
   "version": "3.12.1"
  }
 },
 "nbformat": 4,
 "nbformat_minor": 5
}
